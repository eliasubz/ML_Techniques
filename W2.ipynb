{
 "cells": [
  {
   "cell_type": "markdown",
   "source": [
    "## Implement a Parser to read the Data"
   ],
   "metadata": {
    "collapsed": false
   },
   "id": "50409593fc739cdc"
  },
  {
   "cell_type": "code",
   "execution_count": 3,
   "outputs": [
    {
     "name": "stdout",
     "output_type": "stream",
     "text": [
      "Hello World!\n"
     ]
    }
   ],
   "source": [
    "print(\"Hello World!\")"
   ],
   "metadata": {
    "collapsed": false,
    "ExecuteTime": {
     "end_time": "2025-09-23T11:54:36.574130300Z",
     "start_time": "2025-09-23T11:54:36.557734900Z"
    }
   },
   "id": "e0eb3c267b8faba"
  },
  {
   "cell_type": "code",
   "execution_count": 5,
   "outputs": [
    {
     "name": "stdout",
     "output_type": "stream",
     "text": [
      "Requirement already satisfied: numpy in c:\\users\\elias\\documents\\ani\\iml (introduction to machine learning)\\classification with lazy learning and svm\\venv\\lib\\site-packages (2.3.3)\n",
      "Requirement already satisfied: pandas in c:\\users\\elias\\documents\\ani\\iml (introduction to machine learning)\\classification with lazy learning and svm\\venv\\lib\\site-packages (2.3.2)\n",
      "Collecting scipy\n",
      "  Using cached scipy-1.16.2-cp312-cp312-win_amd64.whl.metadata (60 kB)\n",
      "Requirement already satisfied: python-dateutil>=2.8.2 in c:\\users\\elias\\documents\\ani\\iml (introduction to machine learning)\\classification with lazy learning and svm\\venv\\lib\\site-packages (from pandas) (2.9.0.post0)\n",
      "Requirement already satisfied: pytz>=2020.1 in c:\\users\\elias\\documents\\ani\\iml (introduction to machine learning)\\classification with lazy learning and svm\\venv\\lib\\site-packages (from pandas) (2025.2)\n",
      "Requirement already satisfied: tzdata>=2022.7 in c:\\users\\elias\\documents\\ani\\iml (introduction to machine learning)\\classification with lazy learning and svm\\venv\\lib\\site-packages (from pandas) (2025.2)\n",
      "Requirement already satisfied: six>=1.5 in c:\\users\\elias\\documents\\ani\\iml (introduction to machine learning)\\classification with lazy learning and svm\\venv\\lib\\site-packages (from python-dateutil>=2.8.2->pandas) (1.17.0)\n",
      "Using cached scipy-1.16.2-cp312-cp312-win_amd64.whl (38.6 MB)\n",
      "Installing collected packages: scipy\n",
      "Successfully installed scipy-1.16.2\n"
     ]
    }
   ],
   "source": [
    "!pip install numpy pandas scipy"
   ],
   "metadata": {
    "collapsed": false,
    "ExecuteTime": {
     "end_time": "2025-09-23T11:56:13.568732800Z",
     "start_time": "2025-09-23T11:55:31.180286500Z"
    }
   },
   "id": "65a80955e1f2d1a3"
  },
  {
   "cell_type": "code",
   "execution_count": 7,
   "id": "initial_id",
   "metadata": {
    "collapsed": true,
    "ExecuteTime": {
     "end_time": "2025-09-23T11:59:42.579126900Z",
     "start_time": "2025-09-23T11:59:35.821093Z"
    }
   },
   "outputs": [
    {
     "name": "stdout",
     "output_type": "stream",
     "text": [
      "    age            workclass    fnlwgt        education  education-num  \\\n",
      "0  66.0  b'Self-emp-not-inc'  174788.0  b'Some-college'           10.0   \n",
      "1  68.0           b'Private'  211162.0       b'HS-grad'            9.0   \n",
      "2  90.0           b'Private'  139660.0  b'Some-college'           10.0   \n",
      "3  52.0           b'Private'  230657.0       b'HS-grad'            9.0   \n",
      "4  25.0           b'Private'   66622.0  b'Some-college'           10.0   \n",
      "\n",
      "          marital-status            occupation      relationship      race  \\\n",
      "0       b'Never-married'              b'Sales'  b'Not-in-family'  b'White'   \n",
      "1  b'Married-civ-spouse'    b'Exec-managerial'        b'Husband'  b'White'   \n",
      "2            b'Divorced'              b'Sales'      b'Unmarried'  b'Black'   \n",
      "3  b'Married-civ-spouse'  b'Machine-op-inspct'        b'Husband'  b'Other'   \n",
      "4       b'Never-married'      b'Other-service'      b'Own-child'  b'White'   \n",
      "\n",
      "         sex  capital-gain  capital-loss  hours-per-week    native-country  \\\n",
      "0  b'Female'           0.0           0.0            20.0  b'United-States'   \n",
      "1    b'Male'           0.0           0.0            40.0  b'United-States'   \n",
      "2  b'Female'           0.0           0.0            37.0  b'United-States'   \n",
      "3    b'Male'        3781.0           0.0            40.0       b'Columbia'   \n",
      "4  b'Female'           0.0           0.0            25.0  b'United-States'   \n",
      "\n",
      "      class  \n",
      "0  b'<=50K'  \n",
      "1  b'<=50K'  \n",
      "2  b'<=50K'  \n",
      "3  b'<=50K'  \n",
      "4  b'<=50K'  \n",
      "    age            workclass    fnlwgt       education  education-num  \\\n",
      "0  21.0           b'Private'   62339.0         b'10th'            6.0   \n",
      "1  49.0           b'Private'  225454.0   b'Assoc-acdm'           12.0   \n",
      "2  32.0           b'Private'  312667.0    b'Bachelors'           13.0   \n",
      "3  24.0           b'Private'  161638.0      b'HS-grad'            9.0   \n",
      "4  37.0  b'Self-emp-not-inc'   98941.0  b'Prof-school'           15.0   \n",
      "\n",
      "          marital-status            occupation      relationship      race  \\\n",
      "0       b'Never-married'  b'Handlers-cleaners'  b'Not-in-family'  b'White'   \n",
      "1  b'Married-civ-spouse'     b'Prof-specialty'        b'Husband'  b'White'   \n",
      "2  b'Married-civ-spouse'     b'Prof-specialty'        b'Husband'  b'White'   \n",
      "3  b'Married-civ-spouse'  b'Machine-op-inspct'  b'Not-in-family'  b'White'   \n",
      "4  b'Married-civ-spouse'     b'Prof-specialty'        b'Husband'  b'White'   \n",
      "\n",
      "         sex  capital-gain  capital-loss  hours-per-week    native-country  \\\n",
      "0    b'Male'           0.0           0.0            40.0  b'United-States'   \n",
      "1    b'Male'           0.0           0.0            45.0  b'United-States'   \n",
      "2    b'Male'       15024.0           0.0            50.0  b'United-States'   \n",
      "3  b'Female'           0.0           0.0            40.0        b'Ecuador'   \n",
      "4    b'Male'        7688.0           0.0            50.0  b'United-States'   \n",
      "\n",
      "      class  \n",
      "0  b'<=50K'  \n",
      "1   b'>50K'  \n",
      "2   b'>50K'  \n",
      "3  b'<=50K'  \n",
      "4   b'>50K'  \n"
     ]
    }
   ],
   "source": [
    "# Import necessary libraries\n",
    "import os\n",
    "import numpy as np\n",
    "import pandas as pd\n",
    "from scipy.io import arff\n",
    "\n",
    "# Function to load ARFF files\n",
    "def load_arff_dataset(base_path, dataset_name, num_splits=10):\n",
    "    \"\"\"\n",
    "    Load a dataset from ARFF files with multiple splits.\n",
    "\n",
    "    Parameters:\n",
    "    - base_path: str, base folder containing datasets\n",
    "    - dataset_name: str, name of the dataset folder (e.g., 'adult')\n",
    "    - num_splits: int, number of folds to load\n",
    "\n",
    "    Returns:\n",
    "    - data_splits: list of tuples, each tuple is (train_df, test_df)\n",
    "    \"\"\"\n",
    "    data_splits = []\n",
    "\n",
    "    dataset_path = os.path.join(base_path, dataset_name)\n",
    "\n",
    "    for i in range(num_splits):\n",
    "        fold_num = f\"{i:06d}\"\n",
    "        train_file = os.path.join(dataset_path, f\"{dataset_name}.fold.{fold_num}.train.arff\")\n",
    "        test_file = os.path.join(dataset_path, f\"{dataset_name}.fold.{fold_num}.test.arff\")\n",
    "\n",
    "        # Load ARFF files\n",
    "        train_data, train_meta = arff.loadarff(train_file)\n",
    "        test_data, test_meta = arff.loadarff(test_file)\n",
    "\n",
    "        # Convert to pandas DataFrame\n",
    "        train_df = pd.DataFrame(train_data)\n",
    "        test_df = pd.DataFrame(test_data)\n",
    "\n",
    "        # Append to list\n",
    "        data_splits.append((train_df, test_df))\n",
    "\n",
    "    return data_splits\n",
    "\n",
    "# Example usage\n",
    "base_path = \"datasetsCBR/datasetsCBR\"\n",
    "dataset_name = \"adult\"\n",
    "num_splits = 5  # Change to the number of splits you want\n",
    "\n",
    "splits = load_arff_dataset(base_path, dataset_name, num_splits)\n",
    "\n",
    "# Access first split\n",
    "train_df, test_df = splits[0]\n",
    "print(train_df.head())\n",
    "print(test_df.head())\n"
   ]
  },
  {
   "cell_type": "markdown",
   "source": [
    "## Implement the GGG algorithm (Gay Gearest Geighbors)"
   ],
   "metadata": {
    "collapsed": false
   },
   "id": "85162baf5d2f3e36"
  }
 ],
 "metadata": {
  "kernelspec": {
   "display_name": "Python 3",
   "language": "python",
   "name": "python3"
  },
  "language_info": {
   "codemirror_mode": {
    "name": "ipython",
    "version": 2
   },
   "file_extension": ".py",
   "mimetype": "text/x-python",
   "name": "python",
   "nbconvert_exporter": "python",
   "pygments_lexer": "ipython2",
   "version": "2.7.6"
  }
 },
 "nbformat": 4,
 "nbformat_minor": 5
}
